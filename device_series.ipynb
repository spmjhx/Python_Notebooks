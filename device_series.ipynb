{
 "cells": [
  {
   "cell_type": "code",
   "execution_count": 10,
   "metadata": {},
   "outputs": [
    {
     "name": "stdout",
     "output_type": "stream",
     "text": [
      "Connecting to postgres...\n",
      "Connection Established Successfully\n"
     ]
    }
   ],
   "source": [
    "import csv\n",
    "import psycopg2\n",
    "\n",
    "# Reading the CSV file and loading into a postgres table\n",
    "\n",
    "# 1 establising the DB connetion\n",
    "print(\"Connecting to postgres...\")\n",
    "conn = psycopg2.connect(\"host='127.0.0.1' port='5432' dbname='postgres' user='test_user' password='test123' \")\n",
    "cur = conn.cursor()\n",
    "print(\"Connection Established Successfully\")"
   ]
  },
  {
   "cell_type": "code",
   "execution_count": 11,
   "metadata": {},
   "outputs": [
    {
     "name": "stdout",
     "output_type": "stream",
     "text": [
      "Querying the Postgres Table\n",
      "(0L,)\n"
     ]
    },
    {
     "data": {
      "text/plain": [
       "<function close>"
      ]
     },
     "execution_count": 11,
     "metadata": {},
     "output_type": "execute_result"
    }
   ],
   "source": [
    "cur.execute( \"SELECT Count(*) c FROM base.device_series1\" )\n",
    "print(\"Querying the Postgres Table\")\n",
    "\n",
    "for c in cur.fetchall() :\n",
    "        print c\n",
    "conn.close"
   ]
  },
  {
   "cell_type": "code",
   "execution_count": 12,
   "metadata": {},
   "outputs": [],
   "source": [
    "# 2 Reading the CSV File\n",
    "    \n",
    "with open('/Users/admin/Desktop/samknows/data_engineering_test.csv', 'r') as f:\n",
    "    reader = csv.reader(f)\n",
    "    next(reader) # Skip the header row.\n",
    "    for row in reader:\n",
    "        cur.execute(\"INSERT INTO base.device_series1 VALUES (%s, %s, %s, %s, %s, %s, %s)\",row)\n",
    "cur.close()\n",
    "conn.commit()    "
   ]
  },
  {
   "cell_type": "code",
   "execution_count": null,
   "metadata": {},
   "outputs": [],
   "source": [
    "cur.execute( \"SELECT Count(*) c FROM base.device_series1\" )\n",
    "print(\"Querying the Postgres Table\")\n",
    "\n",
    "for c in cur.fetchall() :\n",
    "        print c\n",
    "conn.close"
   ]
  }
 ],
 "metadata": {
  "kernelspec": {
   "display_name": "Python 2",
   "language": "python",
   "name": "python2"
  },
  "language_info": {
   "codemirror_mode": {
    "name": "ipython",
    "version": 2
   },
   "file_extension": ".py",
   "mimetype": "text/x-python",
   "name": "python",
   "nbconvert_exporter": "python",
   "pygments_lexer": "ipython2",
   "version": "2.7.16"
  }
 },
 "nbformat": 4,
 "nbformat_minor": 2
}
